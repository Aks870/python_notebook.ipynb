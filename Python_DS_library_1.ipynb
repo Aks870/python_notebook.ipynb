{
 "cells": [
  {
   "cell_type": "code",
   "execution_count": 1,
   "id": "ee3560bf-f83a-429f-b647-bc49f7faf9a5",
   "metadata": {},
   "outputs": [
    {
     "name": "stdout",
     "output_type": "stream",
     "text": [
      "14\n"
     ]
    }
   ],
   "source": [
    "val1 = 7\n",
    "print(val1 * 2)"
   ]
  },
  {
   "cell_type": "code",
   "execution_count": 3,
   "id": "ff47e68b-03cd-4614-ba4a-3964a9ec6a24",
   "metadata": {},
   "outputs": [
    {
     "name": "stdout",
     "output_type": "stream",
     "text": [
      "[2, 4, 7, 9, 3]\n",
      "\n",
      "[2, 4, 7, 9, 3, 2, 4, 7, 9, 3]\n"
     ]
    }
   ],
   "source": [
    "list1 = [2,4,7,9,3]\n",
    "print(list1)\n",
    "print()\n",
    "print(list1 * 2)"
   ]
  },
  {
   "cell_type": "code",
   "execution_count": 4,
   "id": "2a67a451-45ab-4e5a-9aa8-32d1581b6c85",
   "metadata": {},
   "outputs": [
    {
     "name": "stdout",
     "output_type": "stream",
     "text": [
      "[[4, 3, 3, 2, 1], [4, 5, 4, 3, 1]]\n",
      "[[4, 3, 3, 2, 1], [4, 5, 4, 3, 1], [4, 3, 3, 2, 1], [4, 5, 4, 3, 1]]\n"
     ]
    }
   ],
   "source": [
    "list2 = [[4,3,3,2,1] , [4,5,4,3,1]]\n",
    "print(list2)\n",
    "print(list2 * 2)"
   ]
  },
  {
   "cell_type": "code",
   "execution_count": 5,
   "id": "541a8123-2b07-4532-9d9c-b3e797965e6e",
   "metadata": {},
   "outputs": [],
   "source": [
    "import numpy as np"
   ]
  },
  {
   "cell_type": "code",
   "execution_count": 6,
   "id": "2cf2140c-428d-4e61-905e-1bf54318b82d",
   "metadata": {},
   "outputs": [
    {
     "name": "stdout",
     "output_type": "stream",
     "text": [
      "[2 4 7 9 3]\n"
     ]
    }
   ],
   "source": [
    "arr1 = np.array([2,4,7,9,3])\n",
    "print(arr1)"
   ]
  },
  {
   "cell_type": "code",
   "execution_count": 8,
   "id": "cbacb9da-2a5a-4dbf-a189-c6f5b48e0f00",
   "metadata": {},
   "outputs": [
    {
     "name": "stdout",
     "output_type": "stream",
     "text": [
      "[ 4  8 14 18  6]\n"
     ]
    }
   ],
   "source": [
    "print(arr1 * 2)"
   ]
  },
  {
   "cell_type": "code",
   "execution_count": 7,
   "id": "4e758338-7fe1-40ac-953a-7cd5e20fa884",
   "metadata": {},
   "outputs": [
    {
     "name": "stdout",
     "output_type": "stream",
     "text": [
      "[[4 3 3 2 1]\n",
      " [7 5 4 3 5]\n",
      " [5 2 9 1 6]]\n"
     ]
    }
   ],
   "source": [
    "arr2 = np.array([[4,3,3,2,1] , [7,5,4,3,5] , [5,2,9,1,6]])\n",
    "print(arr2)"
   ]
  },
  {
   "cell_type": "code",
   "execution_count": 9,
   "id": "5080fe0a-14bc-4d50-a27c-47ce2cb7ddd6",
   "metadata": {},
   "outputs": [
    {
     "name": "stdout",
     "output_type": "stream",
     "text": [
      "[[ 4.  3.  3.  2.  1.]\n",
      " [ 5.  4.  3.  5. nan]\n",
      " [ 5.  2.  9.  1.  6.]]\n"
     ]
    }
   ],
   "source": [
    "arr3 = np.array([[4,3,3,2,1] , [5,4,3,5,np.nan] , [5,2,9,1,6]])\n",
    "print(arr3)"
   ]
  },
  {
   "cell_type": "code",
   "execution_count": 11,
   "id": "169faa26-44cd-49c5-9973-502c340ec81b",
   "metadata": {},
   "outputs": [
    {
     "name": "stdout",
     "output_type": "stream",
     "text": [
      "[[4.  3.  3.  2.  1. ]\n",
      " [7.  5.5 4.  3.  5. ]\n",
      " [5.  2.  9.  1.  6. ]]\n"
     ]
    }
   ],
   "source": [
    "arr4 = np.array([[4,3,3,2,1] , [7,5.5,4,3,5] , [5,2,9,1,6]])\n",
    "print(arr4)     "
   ]
  },
  {
   "cell_type": "code",
   "execution_count": 10,
   "id": "dd163cb7-aebb-4798-94de-f8d80ef72d94",
   "metadata": {},
   "outputs": [
    {
     "name": "stdout",
     "output_type": "stream",
     "text": [
      "[['4' '3' '3' '2' '1']\n",
      " ['7' '5.5' '4' '3' '5']\n",
      " ['5' '2' '9' '1' '6']]\n"
     ]
    }
   ],
   "source": [
    "arr5 = np.array([[4,3,3,'2',1] , [7,5.5,4,3,5] , [5,2,9,1,6]])\n",
    "print(arr5)"
   ]
  },
  {
   "cell_type": "code",
   "execution_count": 12,
   "id": "4c7d403d-2511-43e5-9814-e9d3443222c3",
   "metadata": {},
   "outputs": [
    {
     "name": "stdout",
     "output_type": "stream",
     "text": [
      "<class 'float'>\n"
     ]
    }
   ],
   "source": [
    "print(type(np.nan))"
   ]
  },
  {
   "cell_type": "code",
   "execution_count": 13,
   "id": "6f2a066e-759c-4951-968d-211f1f2ea1e2",
   "metadata": {},
   "outputs": [
    {
     "name": "stdout",
     "output_type": "stream",
     "text": [
      "[2 4 7 9 3]\n"
     ]
    }
   ],
   "source": [
    "print(arr1)"
   ]
  },
  {
   "cell_type": "code",
   "execution_count": 14,
   "id": "58eb6e42-4183-4dc7-9459-556060a908c0",
   "metadata": {},
   "outputs": [
    {
     "name": "stdout",
     "output_type": "stream",
     "text": [
      "(5,)\n",
      "1\n",
      "5\n"
     ]
    }
   ],
   "source": [
    "print(arr1.shape)\n",
    "print(arr1.ndim)\n",
    "print(arr1.size)"
   ]
  },
  {
   "cell_type": "code",
   "execution_count": 15,
   "id": "0eada18b-0d13-4637-a1db-f2bc284e3ea4",
   "metadata": {},
   "outputs": [
    {
     "name": "stdout",
     "output_type": "stream",
     "text": [
      "[[4 3 3 2 1]\n",
      " [7 5 4 3 5]\n",
      " [5 2 9 1 6]]\n"
     ]
    }
   ],
   "source": [
    "print(arr2)"
   ]
  },
  {
   "cell_type": "code",
   "execution_count": 16,
   "id": "63f35809-ef19-4848-b640-e132f2026ad1",
   "metadata": {},
   "outputs": [
    {
     "name": "stdout",
     "output_type": "stream",
     "text": [
      "(3, 5)\n",
      "2\n",
      "15\n"
     ]
    }
   ],
   "source": [
    "print(arr2.shape)\n",
    "print(arr2.ndim)\n",
    "print(arr2.size)"
   ]
  },
  {
   "cell_type": "code",
   "execution_count": 17,
   "id": "e6582576-2a17-4dd8-9bd4-ef5574f7a2ae",
   "metadata": {},
   "outputs": [
    {
     "name": "stdout",
     "output_type": "stream",
     "text": [
      "[[4 3 3 2 1]\n",
      " [7 5 4 3 5]\n",
      " [5 2 9 1 6]]\n"
     ]
    }
   ],
   "source": [
    "print(arr2)"
   ]
  },
  {
   "cell_type": "code",
   "execution_count": 18,
   "id": "c95c409f-d890-49d9-b2a8-430044733f2b",
   "metadata": {},
   "outputs": [
    {
     "name": "stdout",
     "output_type": "stream",
     "text": [
      "60\n",
      "81648000\n",
      "1\n",
      "9\n",
      "4.0\n",
      "2.160246899469287\n",
      "4\n",
      "12\n"
     ]
    }
   ],
   "source": [
    "print(np.sum(arr2))\n",
    "print(np.prod(arr2))\n",
    "print(np.min(arr2))\n",
    "print(np.max(arr2))\n",
    "print(np.mean(arr2))\n",
    "print(np.std(arr2))\n",
    "print(np.argmin(arr2))  #argument for minimum\n",
    "print(np.argmax(arr2))"
   ]
  },
  {
   "cell_type": "code",
   "execution_count": 19,
   "id": "65997743-06b8-4686-98e7-54cf987a5501",
   "metadata": {},
   "outputs": [
    {
     "name": "stdout",
     "output_type": "stream",
     "text": [
      "[16 10 16  6 12]\n",
      "[140  30 108   6  30]\n",
      "[4 2 3 1 1]\n",
      "[7 5 9 3 6]\n",
      "[5.33333333 3.33333333 5.33333333 2.         4.        ]\n",
      "[1.24721913 1.24721913 2.62466929 0.81649658 2.1602469 ]\n",
      "[0 2 0 2 0]\n",
      "[1 1 2 1 2]\n"
     ]
    }
   ],
   "source": [
    "#axis = 0 => for each column\n",
    "\n",
    "print(np.sum(arr2 , axis = 0))\n",
    "print(np.prod(arr2 , axis = 0))\n",
    "print(np.min(arr2 , axis = 0))\n",
    "print(np.max(arr2 , axis = 0))\n",
    "print(np.mean(arr2, axis = 0))\n",
    "print(np.std(arr2 , axis = 0))\n",
    "print(np.argmin(arr2 , axis = 0))  #argument for minimum\n",
    "print(np.argmax(arr2 , axis = 0))"
   ]
  },
  {
   "cell_type": "code",
   "execution_count": 20,
   "id": "09ce406d-d443-44d2-b157-140eb336e961",
   "metadata": {},
   "outputs": [
    {
     "name": "stdout",
     "output_type": "stream",
     "text": [
      "[13 24 23]\n",
      "[  72 2100  540]\n",
      "[1 3 1]\n",
      "[4 7 9]\n",
      "[2.6 4.8 4.6]\n",
      "[1.0198039  1.32664992 2.87054002]\n",
      "[4 3 3]\n",
      "[0 0 2]\n"
     ]
    }
   ],
   "source": [
    "#axis = 1 => for each row\n",
    "\n",
    "print(np.sum(arr2 , axis = 1))\n",
    "print(np.prod(arr2 , axis = 1))\n",
    "print(np.min(arr2 , axis = 1))\n",
    "print(np.max(arr2 , axis = 1))\n",
    "print(np.mean(arr2, axis = 1))\n",
    "print(np.std(arr2 , axis = 1))\n",
    "print(np.argmin(arr2 , axis = 1))  #argument for minimum\n",
    "print(np.argmax(arr2 , axis = 1))"
   ]
  },
  {
   "cell_type": "code",
   "execution_count": 21,
   "id": "9965bab6-80ab-44c5-9fbc-e3b0a17e40b4",
   "metadata": {},
   "outputs": [
    {
     "name": "stdout",
     "output_type": "stream",
     "text": [
      "[34 35 12 45 23 25 27 29 31 33 37  7  9 20]\n"
     ]
    }
   ],
   "source": [
    "#standard deviation\n",
    "\n",
    "marks = np.array([34,35,12,45,23,25,27,29,31,33,37,7,9,20])\n",
    "\n",
    "print(marks)"
   ]
  },
  {
   "cell_type": "code",
   "execution_count": 22,
   "id": "f88f9302-f349-44e3-8a19-9446dfa078b0",
   "metadata": {},
   "outputs": [
    {
     "name": "stdout",
     "output_type": "stream",
     "text": [
      "26.214285714285715\n"
     ]
    }
   ],
   "source": [
    "mean_marks = marks.mean()\n",
    "print(mean_marks)"
   ]
  },
  {
   "cell_type": "code",
   "execution_count": 23,
   "id": "a2404966-008f-4948-bcba-f541decffc08",
   "metadata": {},
   "outputs": [
    {
     "name": "stdout",
     "output_type": "stream",
     "text": [
      "114.45408163265304\n"
     ]
    }
   ],
   "source": [
    "var_marks = ((marks - mean_marks)**2).mean()\n",
    "print(var_marks)"
   ]
  },
  {
   "cell_type": "code",
   "execution_count": 24,
   "id": "e7de4be4-58f8-4ae8-92b3-5430f9a400ac",
   "metadata": {},
   "outputs": [
    {
     "name": "stdout",
     "output_type": "stream",
     "text": [
      "10.698321439957441\n"
     ]
    }
   ],
   "source": [
    "std_marks = var_marks**0.5\n",
    "print(std_marks)"
   ]
  },
  {
   "cell_type": "code",
   "execution_count": 25,
   "id": "35060200-3de8-4341-a0eb-fcdc910029be",
   "metadata": {},
   "outputs": [
    {
     "name": "stdout",
     "output_type": "stream",
     "text": [
      "36.912607154243155\n",
      "15.515964274328274\n"
     ]
    }
   ],
   "source": [
    "#1st standard deviation\n",
    "upper_limit_1 = mean_marks + std_marks\n",
    "lower_limit_1 = mean_marks - std_marks\n",
    "\n",
    "print(upper_limit_1)\n",
    "print(lower_limit_1)"
   ]
  },
  {
   "cell_type": "code",
   "execution_count": 26,
   "id": "ee5db46c-c9c9-46c2-a547-b505679d2b11",
   "metadata": {},
   "outputs": [
    {
     "name": "stdout",
     "output_type": "stream",
     "text": [
      "47.6109285942006\n",
      "4.817642834370833\n"
     ]
    }
   ],
   "source": [
    "#2nd standard deviation\n",
    "upper_limit_2 = mean_marks + 2*std_marks\n",
    "lower_limit_2 = mean_marks - 2*std_marks\n",
    "\n",
    "print(upper_limit_2)\n",
    "print(lower_limit_2)"
   ]
  },
  {
   "cell_type": "code",
   "execution_count": 27,
   "id": "f5d85a28-6466-4b32-8112-224fc8b31b4a",
   "metadata": {},
   "outputs": [
    {
     "name": "stdout",
     "output_type": "stream",
     "text": [
      "58.30925003415804\n",
      "-5.88067860558661\n"
     ]
    }
   ],
   "source": [
    "#3rd standard deviation\n",
    "upper_limit_3 = mean_marks + 3*std_marks\n",
    "lower_limit_3 = mean_marks - 3*std_marks\n",
    "\n",
    "print(upper_limit_3)\n",
    "print(lower_limit_3)"
   ]
  },
  {
   "cell_type": "code",
   "execution_count": 28,
   "id": "903b25b7-4b23-4bfa-bd6f-4bea0df89e3a",
   "metadata": {},
   "outputs": [
    {
     "name": "stdout",
     "output_type": "stream",
     "text": [
      "[[0. 0. 0.]\n",
      " [0. 0. 0.]\n",
      " [0. 0. 0.]\n",
      " [0. 0. 0.]]\n"
     ]
    }
   ],
   "source": [
    "print(np.zeros((4,3)))"
   ]
  },
  {
   "cell_type": "code",
   "execution_count": 29,
   "id": "b2218bdb-049f-4c20-b818-ff6a7ac97171",
   "metadata": {},
   "outputs": [
    {
     "name": "stdout",
     "output_type": "stream",
     "text": [
      "[[1. 1. 1.]\n",
      " [1. 1. 1.]\n",
      " [1. 1. 1.]\n",
      " [1. 1. 1.]]\n"
     ]
    }
   ],
   "source": [
    "print(np.ones((4,3)))"
   ]
  },
  {
   "cell_type": "code",
   "execution_count": 30,
   "id": "9200dd74-4f12-4917-af23-7ed2eaed4c90",
   "metadata": {},
   "outputs": [
    {
     "name": "stdout",
     "output_type": "stream",
     "text": [
      "[[1. 0. 0.]\n",
      " [0. 1. 0.]\n",
      " [0. 0. 1.]]\n"
     ]
    }
   ],
   "source": [
    "print(np.eye(3))"
   ]
  },
  {
   "cell_type": "code",
   "execution_count": null,
   "id": "05954223-d756-4739-b323-a88655818236",
   "metadata": {},
   "outputs": [],
   "source": []
  }
 ],
 "metadata": {
  "kernelspec": {
   "display_name": "Python 3 (ipykernel)",
   "language": "python",
   "name": "python3"
  },
  "language_info": {
   "codemirror_mode": {
    "name": "ipython",
    "version": 3
   },
   "file_extension": ".py",
   "mimetype": "text/x-python",
   "name": "python",
   "nbconvert_exporter": "python",
   "pygments_lexer": "ipython3",
   "version": "3.13.2"
  }
 },
 "nbformat": 4,
 "nbformat_minor": 5
}
