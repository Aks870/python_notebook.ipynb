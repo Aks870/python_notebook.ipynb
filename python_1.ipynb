{
 "cells": [
  {
   "cell_type": "code",
   "execution_count": 1,
   "id": "21da9810-023d-4804-af85-5804b416bb67",
   "metadata": {},
   "outputs": [
    {
     "name": "stdout",
     "output_type": "stream",
     "text": [
      "hello World\n"
     ]
    }
   ],
   "source": [
    "print (\"hello World\")"
   ]
  },
  {
   "cell_type": "code",
   "execution_count": 2,
   "id": "b2d89537-07ff-4916-bdb8-5bc85085d107",
   "metadata": {},
   "outputs": [
    {
     "name": "stdout",
     "output_type": "stream",
     "text": [
      "35\n"
     ]
    }
   ],
   "source": [
    "a = 7\n",
    "b = 5\n",
    "c = a * b\n",
    "print(c)"
   ]
  },
  {
   "cell_type": "markdown",
   "id": "71433f5e-f68c-4043-bc95-21556db73250",
   "metadata": {},
   "source": [
    "Python\n",
    "\n",
    "* Variables & values\n",
    "* Data Types\n",
    "* Operators\n",
    "* Conditional Programming - if/else\n",
    "* Loops - for/while\n",
    "* functions"
   ]
  },
  {
   "cell_type": "code",
   "execution_count": 3,
   "id": "fc30930a-d4aa-44f5-9fca-71f042f6e05e",
   "metadata": {},
   "outputs": [
    {
     "name": "stdout",
     "output_type": "stream",
     "text": [
      "hello World\n"
     ]
    }
   ],
   "source": [
    "print(\"hello World\")"
   ]
  },
  {
   "cell_type": "code",
   "execution_count": 5,
   "id": "cbf5a68c-730d-485d-9195-d963ce8322e5",
   "metadata": {},
   "outputs": [],
   "source": [
    "name = \"Ankit\"\n",
    "age = 21\n",
    "salary = 654947.58"
   ]
  },
  {
   "cell_type": "code",
   "execution_count": 6,
   "id": "dcb86404-201f-4206-bd14-0fb4b1dabe8e",
   "metadata": {},
   "outputs": [
    {
     "name": "stdout",
     "output_type": "stream",
     "text": [
      "<class 'str'>\n",
      "<class 'int'>\n",
      "<class 'float'>\n"
     ]
    }
   ],
   "source": [
    "print(type(name))\n",
    "print(type(age))\n",
    "print(type(salary))"
   ]
  },
  {
   "cell_type": "markdown",
   "id": "3441beca-6cfb-4eed-80b5-87ccf838d8c2",
   "metadata": {},
   "source": [
    "List - It is mutable"
   ]
  },
  {
   "cell_type": "code",
   "execution_count": 20,
   "id": "284d2e03-3b72-464b-8055-c5e0226b776d",
   "metadata": {},
   "outputs": [
    {
     "name": "stdout",
     "output_type": "stream",
     "text": [
      "['Ankit', 'Vivek', 'Sangam', 'Rounak', 'Ramjanm']\n"
     ]
    }
   ],
   "source": [
    "student_names = [\"Ankit\" , \"Vivek\" , \"Sangam\" , \"Rounak\" , \"Ramjanm\"]\n",
    "print(student_names)"
   ]
  },
  {
   "cell_type": "code",
   "execution_count": 10,
   "id": "12737a22-59a8-41b0-bce8-99039a01a5d8",
   "metadata": {},
   "outputs": [
    {
     "name": "stdout",
     "output_type": "stream",
     "text": [
      "<class 'list'>\n"
     ]
    }
   ],
   "source": [
    "print(type(student_names))"
   ]
  },
  {
   "cell_type": "code",
   "execution_count": 17,
   "id": "591f3591-d205-4c30-ba9a-b235c1f9dd6f",
   "metadata": {},
   "outputs": [
    {
     "name": "stdout",
     "output_type": "stream",
     "text": [
      "Sangam\n",
      "3\n"
     ]
    }
   ],
   "source": [
    "print(student_names[2])\n",
    "print(student_names.index(\"Rounak\"))"
   ]
  },
  {
   "cell_type": "code",
   "execution_count": 21,
   "id": "a34634ed-8a6c-46c2-9f0b-c585164a8aa1",
   "metadata": {},
   "outputs": [
    {
     "name": "stdout",
     "output_type": "stream",
     "text": [
      "['Ankit', 'Vivek', 'Ramjanm', 'Rounak', 'Ramjanm']\n"
     ]
    }
   ],
   "source": [
    "student_names[2] = \"Ramjanm\"\n",
    "print(student_names)"
   ]
  },
  {
   "cell_type": "markdown",
   "id": "aaa30a17-4227-4c84-bde9-d86ce07b45f2",
   "metadata": {},
   "source": [
    "Tuple - Its is immutable"
   ]
  },
  {
   "cell_type": "code",
   "execution_count": 22,
   "id": "521cd9bf-60c4-46cb-b16b-9e706375bac9",
   "metadata": {},
   "outputs": [
    {
     "name": "stdout",
     "output_type": "stream",
     "text": [
      "('Patna', 'Jaipur', 'Delhi', 'Indore', 'Nagpur')\n"
     ]
    }
   ],
   "source": [
    "cities = (\"Patna\" , \"Jaipur\" , \"Delhi\" , \"Indore\" , \"Nagpur\")\n",
    "print(cities)"
   ]
  },
  {
   "cell_type": "code",
   "execution_count": 23,
   "id": "97b4e9de-725f-4da0-8392-d09f6a89c542",
   "metadata": {},
   "outputs": [
    {
     "name": "stdout",
     "output_type": "stream",
     "text": [
      "<class 'tuple'>\n"
     ]
    }
   ],
   "source": [
    "print(type(cities))"
   ]
  },
  {
   "cell_type": "code",
   "execution_count": 26,
   "id": "4021d325-dea5-414d-98a1-0e3787cdf19a",
   "metadata": {},
   "outputs": [
    {
     "name": "stdout",
     "output_type": "stream",
     "text": [
      "Delhi\n",
      "3\n"
     ]
    }
   ],
   "source": [
    "print(cities[2])\n",
    "print(cities.index(\"Indore\"))"
   ]
  },
  {
   "cell_type": "code",
   "execution_count": 27,
   "id": "bf174212-dac9-4114-ade6-35757d50a195",
   "metadata": {},
   "outputs": [
    {
     "ename": "TypeError",
     "evalue": "'tuple' object does not support item assignment",
     "output_type": "error",
     "traceback": [
      "\u001b[1;31m----------\u001b[0m",
      "\u001b[1;31mTypeError\u001b[0mTraceback (most recent call last)",
      "Cell \u001b[1;32mIn[27], line 1\u001b[0m\n\u001b[1;32m----> 1\u001b[0m \u001b[43mcities\u001b[49m\u001b[43m[\u001b[49m\u001b[38;5;241;43m2\u001b[39;49m\u001b[43m]\u001b[49m \u001b[38;5;241m=\u001b[39m \u001b[38;5;124m\"\u001b[39m\u001b[38;5;124mpatna\u001b[39m\u001b[38;5;124m\"\u001b[39m\n",
      "\u001b[1;31mTypeError\u001b[0m: 'tuple' object does not support item assignment"
     ]
    }
   ],
   "source": [
    "cities[2] = \"patna\""
   ]
  },
  {
   "cell_type": "code",
   "execution_count": 31,
   "id": "5d9b65fc-bec9-4eab-b302-82c029b8b245",
   "metadata": {},
   "outputs": [
    {
     "name": "stdout",
     "output_type": "stream",
     "text": [
      "{'name': 'Ankit', 'age': 15, 'marks': 45.5, 'email': 'ankit@abs.com'}\n",
      "<class 'dict'>\n"
     ]
    }
   ],
   "source": [
    "student_details = {\"name\" : \"Ankit\" , \"age\" : 15 , \"marks\" : 45.5 , \"email\" : \"ankit@abs.com\"}\n",
    "\n",
    "print(student_details)\n",
    "print(type(student_details))"
   ]
  },
  {
   "cell_type": "code",
   "execution_count": 34,
   "id": "90aa3331-3f11-46f1-bbaa-9c03f82a0727",
   "metadata": {},
   "outputs": [
    {
     "name": "stdout",
     "output_type": "stream",
     "text": [
      "Ankit\n",
      "45.5\n"
     ]
    }
   ],
   "source": [
    "print(student_details[\"name\"])\n",
    "print(student_details[\"marks\"])"
   ]
  },
  {
   "cell_type": "code",
   "execution_count": 35,
   "id": "d488106a-ec54-42c6-901c-857caf06d239",
   "metadata": {},
   "outputs": [
    {
     "name": "stdout",
     "output_type": "stream",
     "text": [
      "dict_keys(['name', 'age', 'marks', 'email'])\n",
      "dict_values(['Ankit', 15, 45.5, 'ankit@abs.com'])\n"
     ]
    }
   ],
   "source": [
    "print(student_details.keys())\n",
    "print(student_details.values())"
   ]
  },
  {
   "cell_type": "code",
   "execution_count": null,
   "id": "10c9a058-1242-423d-a87c-b1f092ed081a",
   "metadata": {},
   "outputs": [],
   "source": []
  }
 ],
 "metadata": {
  "kernelspec": {
   "display_name": "Python 3 (ipykernel)",
   "language": "python",
   "name": "python3"
  },
  "language_info": {
   "codemirror_mode": {
    "name": "ipython",
    "version": 3
   },
   "file_extension": ".py",
   "mimetype": "text/x-python",
   "name": "python",
   "nbconvert_exporter": "python",
   "pygments_lexer": "ipython3",
   "version": "3.13.2"
  }
 },
 "nbformat": 4,
 "nbformat_minor": 5
}
