{
 "cells": [
  {
   "cell_type": "markdown",
   "id": "8ec28f4d-47d3-4fcc-97ca-a9e6fb15811b",
   "metadata": {},
   "source": [
    "Build a predictive model to predict Energy Consumption (kWh) if we know rest of the features in the given data"
   ]
  },
  {
   "cell_type": "code",
   "execution_count": 1,
   "id": "70acd364-e9d0-4bb3-a09f-2367d0a96637",
   "metadata": {},
   "outputs": [
    {
     "data": {
      "text/html": [
       "<div>\n",
       "<style scoped>\n",
       "    .dataframe tbody tr th:only-of-type {\n",
       "        vertical-align: middle;\n",
       "    }\n",
       "\n",
       "    .dataframe tbody tr th {\n",
       "        vertical-align: top;\n",
       "    }\n",
       "\n",
       "    .dataframe thead th {\n",
       "        text-align: right;\n",
       "    }\n",
       "</style>\n",
       "<table border=\"1\" class=\"dataframe\">\n",
       "  <thead>\n",
       "    <tr style=\"text-align: right;\">\n",
       "      <th></th>\n",
       "      <th>Timestamp</th>\n",
       "      <th>Room Temperature (°C)</th>\n",
       "      <th>Energy Consumption (kWh)</th>\n",
       "      <th>Device Status</th>\n",
       "      <th>Occupancy</th>\n",
       "      <th>Weather Data (°C)</th>\n",
       "      <th>User Preference (°C)</th>\n",
       "    </tr>\n",
       "  </thead>\n",
       "  <tbody>\n",
       "    <tr>\n",
       "      <th>0</th>\n",
       "      <td>2024-01-01 00:00:00</td>\n",
       "      <td>20.6</td>\n",
       "      <td>18.42</td>\n",
       "      <td>1</td>\n",
       "      <td>3</td>\n",
       "      <td>14.6</td>\n",
       "      <td>18.2</td>\n",
       "    </tr>\n",
       "    <tr>\n",
       "      <th>1</th>\n",
       "      <td>2024-01-01 00:15:00</td>\n",
       "      <td>29.3</td>\n",
       "      <td>21.67</td>\n",
       "      <td>1</td>\n",
       "      <td>2</td>\n",
       "      <td>23.5</td>\n",
       "      <td>20.4</td>\n",
       "    </tr>\n",
       "    <tr>\n",
       "      <th>2</th>\n",
       "      <td>2024-01-01 00:30:00</td>\n",
       "      <td>26.0</td>\n",
       "      <td>25.20</td>\n",
       "      <td>0</td>\n",
       "      <td>3</td>\n",
       "      <td>31.8</td>\n",
       "      <td>22.0</td>\n",
       "    </tr>\n",
       "    <tr>\n",
       "      <th>3</th>\n",
       "      <td>2024-01-01 00:45:00</td>\n",
       "      <td>24.0</td>\n",
       "      <td>21.48</td>\n",
       "      <td>1</td>\n",
       "      <td>5</td>\n",
       "      <td>28.3</td>\n",
       "      <td>18.4</td>\n",
       "    </tr>\n",
       "    <tr>\n",
       "      <th>4</th>\n",
       "      <td>2024-01-01 01:00:00</td>\n",
       "      <td>17.3</td>\n",
       "      <td>12.91</td>\n",
       "      <td>0</td>\n",
       "      <td>1</td>\n",
       "      <td>30.2</td>\n",
       "      <td>21.9</td>\n",
       "    </tr>\n",
       "  </tbody>\n",
       "</table>\n",
       "</div>"
      ],
      "text/plain": [
       "             Timestamp  Room Temperature (°C)  Energy Consumption (kWh)  \\\n",
       "0  2024-01-01 00:00:00                   20.6                     18.42   \n",
       "1  2024-01-01 00:15:00                   29.3                     21.67   \n",
       "2  2024-01-01 00:30:00                   26.0                     25.20   \n",
       "3  2024-01-01 00:45:00                   24.0                     21.48   \n",
       "4  2024-01-01 01:00:00                   17.3                     12.91   \n",
       "\n",
       "   Device Status  Occupancy  Weather Data (°C)  User Preference (°C)  \n",
       "0              1          3               14.6                  18.2  \n",
       "1              1          2               23.5                  20.4  \n",
       "2              0          3               31.8                  22.0  \n",
       "3              1          5               28.3                  18.4  \n",
       "4              0          1               30.2                  21.9  "
      ]
     },
     "execution_count": 1,
     "metadata": {},
     "output_type": "execute_result"
    }
   ],
   "source": [
    "import pandas as pd\n",
    "\n",
    "df = pd.read_csv('https://raw.githubusercontent.com/bipulshahi/Dataset/refs/heads/main/smart_home_energy_data.csv')\n",
    "\n",
    "df.head()"
   ]
  },
  {
   "cell_type": "code",
   "execution_count": null,
   "id": "741db6a6-57a8-43f9-b4c4-b6e5793d5464",
   "metadata": {},
   "outputs": [],
   "source": [
    "# Perform Univariate Analysis of each column\n",
    "\n",
    "# Mean, Minimum & Maximum \n",
    "#for continous column - Room Temperature (°C),\tEnergy Consumption (kWh), Weather Data (°C), User Preference (°C)\n",
    "\n",
    "#Unique values & num of counts of each category for categorical column\n",
    "#Device Status\t&  Occupancy"
   ]
  },
  {
   "cell_type": "code",
   "execution_count": null,
   "id": "c1c73d9e-2d62-4d89-90e3-fc898f7a327f",
   "metadata": {},
   "outputs": [],
   "source": [
    "#Bivariate Analysis\n",
    "#Correlation - \n",
    "#for continous column - Room Temperature (°C),\tEnergy Consumption (kWh), Weather Data (°C), User Preference (°C)\n",
    "\n",
    "#crosstab -\n",
    "#Device Status\t&  Occupancy"
   ]
  },
  {
   "cell_type": "code",
   "execution_count": 2,
   "id": "44488f1e-9284-4472-a228-db95a6655eb0",
   "metadata": {},
   "outputs": [],
   "source": [
    "#use linear regression to build a predictive model for Energy Consumption (kWh)\n",
    "\n",
    "#Evalaue the model performance using mean absolute error"
   ]
  },
  {
   "cell_type": "markdown",
   "id": "02933273-f683-4256-8f2b-1ef22fddf2e7",
   "metadata": {},
   "source": [
    "\n",
    "Mean, Minimum & Maximum\n",
    "for continuous column - Room Temperature (°C), Energy Consumption (kWh), Weather Data (°C), User Preference (°C)\n",
    "Room Temperature(mean) - Energy Consumption(mean) - Weather Data(mean) -\n",
    "\n",
    "Room Temperature(min) - Energy Consumption(min) - Weather Data(min) -\n",
    "\n",
    "Room Temperature(max) - Energy Consumption(max) - Weather Data(max) -\n",
    "\n",
    "Unique values & num of counts of each category for categorical column\n",
    "Device Status & Occupancy\n",
    "Device Status - Occupancy -\n",
    "\n",
    "Correlation -\n",
    "for continous column - Room Temperature (°C), Energy Consumption (kWh), Weather Data (°C), User Preference (°C)\n",
    "crosstab -\n",
    "Device Status & Occupancy\n",
    "use linear regression to build a predictive model for Energy Consumption (kWh)\n",
    "Evalaue the model performance using mean absolute error\n",
    "MAE_train MAE_test\n",
    "\n",
    "prediction\n",
    "room_temp - 20.5 device_status = 0 occupancy = 1 weather_data = 22 user_prefremce = 20"
   ]
  },
  {
   "cell_type": "code",
   "execution_count": null,
   "id": "1146c4d0-1386-4281-87a4-cacaa1448a2d",
   "metadata": {},
   "outputs": [],
   "source": []
  },
  {
   "cell_type": "code",
   "execution_count": null,
   "id": "5225701e-38e5-4447-aec7-18cd629ab446",
   "metadata": {},
   "outputs": [],
   "source": []
  },
  {
   "cell_type": "code",
   "execution_count": null,
   "id": "591a46a4-11f8-4b53-9fef-35a89aee349c",
   "metadata": {},
   "outputs": [],
   "source": []
  },
  {
   "cell_type": "code",
   "execution_count": null,
   "id": "b63a55f8-f5a4-4403-bfbc-d63285bd46e5",
   "metadata": {},
   "outputs": [],
   "source": []
  },
  {
   "cell_type": "code",
   "execution_count": null,
   "id": "4e5bf37b-bde4-44ba-bd23-7cb5ff56dda8",
   "metadata": {},
   "outputs": [],
   "source": []
  },
  {
   "cell_type": "code",
   "execution_count": null,
   "id": "2858d696-4497-46e9-9c54-60a2345620ba",
   "metadata": {},
   "outputs": [],
   "source": []
  },
  {
   "cell_type": "code",
   "execution_count": null,
   "id": "3573fc30-4e61-4a70-be3d-c0d97c51ea20",
   "metadata": {},
   "outputs": [],
   "source": []
  },
  {
   "cell_type": "code",
   "execution_count": null,
   "id": "da801c3d-47e1-4a7b-95f6-7da754cecbf4",
   "metadata": {},
   "outputs": [],
   "source": []
  },
  {
   "cell_type": "code",
   "execution_count": null,
   "id": "06ee3b34-b78d-417a-856b-1f3d509936b4",
   "metadata": {},
   "outputs": [],
   "source": []
  },
  {
   "cell_type": "code",
   "execution_count": null,
   "id": "bb04ea3c-af47-490e-b128-ac0d5aa6a39b",
   "metadata": {},
   "outputs": [],
   "source": []
  },
  {
   "cell_type": "code",
   "execution_count": null,
   "id": "a8dd95cb-8ec2-44a5-bf1b-96ba8ccaca16",
   "metadata": {},
   "outputs": [],
   "source": []
  },
  {
   "cell_type": "code",
   "execution_count": null,
   "id": "536ca4ef-b37c-4bd9-b756-eed4a5b003dd",
   "metadata": {},
   "outputs": [],
   "source": []
  },
  {
   "cell_type": "code",
   "execution_count": null,
   "id": "9136b255-5b5b-49ec-bce6-f1d6213b3469",
   "metadata": {},
   "outputs": [],
   "source": []
  },
  {
   "cell_type": "code",
   "execution_count": null,
   "id": "7f8c9195-999a-4666-b5ff-352a603ff5d4",
   "metadata": {},
   "outputs": [],
   "source": []
  },
  {
   "cell_type": "code",
   "execution_count": null,
   "id": "67b06189-6e33-4947-95da-98a3aa7549da",
   "metadata": {},
   "outputs": [],
   "source": []
  },
  {
   "cell_type": "code",
   "execution_count": null,
   "id": "d4a76210-e487-4d9f-900d-628c376a273f",
   "metadata": {},
   "outputs": [],
   "source": []
  },
  {
   "cell_type": "code",
   "execution_count": null,
   "id": "c465f04f-6381-47f0-99f2-9267ba44b898",
   "metadata": {},
   "outputs": [],
   "source": []
  },
  {
   "cell_type": "code",
   "execution_count": null,
   "id": "0f0bf76b-d48c-4d7a-815f-40ea5fff9385",
   "metadata": {},
   "outputs": [],
   "source": []
  },
  {
   "cell_type": "code",
   "execution_count": null,
   "id": "e055e4ed-1713-49aa-ae46-b902ed3540e0",
   "metadata": {},
   "outputs": [],
   "source": []
  },
  {
   "cell_type": "code",
   "execution_count": null,
   "id": "ea96a8b8-6af2-488b-a40c-c6076489e97a",
   "metadata": {},
   "outputs": [],
   "source": []
  },
  {
   "cell_type": "code",
   "execution_count": null,
   "id": "3c4cf1f9-c561-450c-a827-3b73d5e0f6e4",
   "metadata": {},
   "outputs": [],
   "source": []
  },
  {
   "cell_type": "code",
   "execution_count": null,
   "id": "62ed29ce-c547-4e74-9820-75816ef449e5",
   "metadata": {},
   "outputs": [],
   "source": []
  },
  {
   "cell_type": "code",
   "execution_count": null,
   "id": "17363977-1587-4705-a0ec-4b89e4ec2078",
   "metadata": {},
   "outputs": [],
   "source": []
  },
  {
   "cell_type": "code",
   "execution_count": null,
   "id": "8e67839b-53de-4bb5-a91c-abf6897d4894",
   "metadata": {},
   "outputs": [],
   "source": []
  },
  {
   "cell_type": "code",
   "execution_count": null,
   "id": "56258179-b261-4043-a33d-66bc8d96a8c8",
   "metadata": {},
   "outputs": [],
   "source": []
  },
  {
   "cell_type": "code",
   "execution_count": null,
   "id": "1843d572-386c-4b34-a3b9-1d76c4f4eef9",
   "metadata": {},
   "outputs": [],
   "source": []
  },
  {
   "cell_type": "code",
   "execution_count": null,
   "id": "bc8b89d3-91d6-4482-8080-e9555d500785",
   "metadata": {},
   "outputs": [],
   "source": []
  },
  {
   "cell_type": "code",
   "execution_count": null,
   "id": "0bb2ea9b-f93b-4a7f-ba55-ca1f12253610",
   "metadata": {},
   "outputs": [],
   "source": []
  },
  {
   "cell_type": "code",
   "execution_count": null,
   "id": "f9c22d7c-bab5-4a69-bef0-a7a6c9a04e8a",
   "metadata": {},
   "outputs": [],
   "source": []
  },
  {
   "cell_type": "code",
   "execution_count": null,
   "id": "d2705480-4bca-4a13-bfbb-1047cb7b6e7e",
   "metadata": {},
   "outputs": [],
   "source": []
  },
  {
   "cell_type": "code",
   "execution_count": null,
   "id": "f6b4193f-c08b-4f55-8432-e7e3318b3550",
   "metadata": {},
   "outputs": [],
   "source": []
  },
  {
   "cell_type": "code",
   "execution_count": null,
   "id": "643975d9-9af5-4cd2-9e0b-39f9d047a682",
   "metadata": {},
   "outputs": [],
   "source": []
  },
  {
   "cell_type": "code",
   "execution_count": null,
   "id": "81900808-380a-4ce0-acd9-2083b5cfa59b",
   "metadata": {},
   "outputs": [],
   "source": []
  },
  {
   "cell_type": "code",
   "execution_count": null,
   "id": "0c6cf3e4-85e5-4c95-b6be-8909e03f7fad",
   "metadata": {},
   "outputs": [],
   "source": []
  },
  {
   "cell_type": "code",
   "execution_count": null,
   "id": "a558d8f3-e79c-4f63-bf57-752c93e3899f",
   "metadata": {},
   "outputs": [],
   "source": []
  },
  {
   "cell_type": "code",
   "execution_count": null,
   "id": "91882f20-434e-4d56-9fd4-8c046464095c",
   "metadata": {},
   "outputs": [],
   "source": []
  },
  {
   "cell_type": "code",
   "execution_count": null,
   "id": "94ca5f80-afe8-4d12-8e87-c78e2b0d7071",
   "metadata": {},
   "outputs": [],
   "source": []
  },
  {
   "cell_type": "code",
   "execution_count": null,
   "id": "f557b7be-c511-4d7a-9e86-eaef7d2c726f",
   "metadata": {},
   "outputs": [],
   "source": []
  }
 ],
 "metadata": {
  "kernelspec": {
   "display_name": "Python 3 (ipykernel)",
   "language": "python",
   "name": "python3"
  },
  "language_info": {
   "codemirror_mode": {
    "name": "ipython",
    "version": 3
   },
   "file_extension": ".py",
   "mimetype": "text/x-python",
   "name": "python",
   "nbconvert_exporter": "python",
   "pygments_lexer": "ipython3",
   "version": "3.13.2"
  }
 },
 "nbformat": 4,
 "nbformat_minor": 5
}
