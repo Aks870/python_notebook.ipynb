{
 "cells": [
  {
   "cell_type": "markdown",
   "id": "9925d49c-2cfc-4f8f-86d3-cd500a97132f",
   "metadata": {},
   "source": [
    "Loop\n",
    "\n",
    "* for loop\n",
    "* while loop"
   ]
  },
  {
   "cell_type": "code",
   "execution_count": 1,
   "id": "21d57fc6-ccca-490c-940c-bdb976f5addf",
   "metadata": {},
   "outputs": [
    {
     "name": "stdout",
     "output_type": "stream",
     "text": [
      "Hello Ma\n",
      "Hello Ma\n",
      "Hello Ma\n",
      "Hello Ma\n",
      "Hello Ma\n"
     ]
    }
   ],
   "source": [
    "print(\"Hello Ma\")\n",
    "print(\"Hello Ma\")\n",
    "print(\"Hello Ma\")\n",
    "print(\"Hello Ma\")\n",
    "print(\"Hello Ma\")"
   ]
  },
  {
   "cell_type": "code",
   "execution_count": 2,
   "id": "407514e2-7d98-4151-982e-742cd18d90e3",
   "metadata": {},
   "outputs": [
    {
     "name": "stdout",
     "output_type": "stream",
     "text": [
      "0 Hello World\n",
      "1 Hello World\n",
      "2 Hello World\n",
      "3 Hello World\n",
      "4 Hello World\n",
      "ABCDE\n"
     ]
    }
   ],
   "source": [
    "for i in range(0,5):    #steps = 5 - 0 = 5\n",
    "    print(i, \"Hello World\")\n",
    "\n",
    "print(\"ABCDE\")"
   ]
  },
  {
   "cell_type": "code",
   "execution_count": 1,
   "id": "0362f0ef-b373-4ae1-9bfc-5a528dac7297",
   "metadata": {},
   "outputs": [
    {
     "name": "stdin",
     "output_type": "stream",
     "text": [
      "Enter your user id admin \n",
      "Enter your password password\n"
     ]
    },
    {
     "name": "stdout",
     "output_type": "stream",
     "text": [
      "Login Failed\n"
     ]
    }
   ],
   "source": [
    "userid = input(\"Enter your user id\")\n",
    "userpass = input(\"Enter your password\")\n",
    "\n",
    "if (userid == 'admin' and userpass == 'password'):\n",
    "    print(\"Login Successfull\")\n",
    "else:\n",
    "    print(\"Login Failed\")"
   ]
  },
  {
   "cell_type": "code",
   "execution_count": 2,
   "id": "5fc70c43-f1e3-4ddb-b42f-206a4795989f",
   "metadata": {},
   "outputs": [
    {
     "name": "stdin",
     "output_type": "stream",
     "text": [
      "Enter your user id admin\n",
      "Enter your password password\n"
     ]
    },
    {
     "name": "stdout",
     "output_type": "stream",
     "text": [
      "Login Successfull\n"
     ]
    }
   ],
   "source": [
    "for i in range(0,5):\n",
    "    userid = input(\"Enter your user id\")\n",
    "    userpass = input(\"Enter your password\")\n",
    "    \n",
    "    if (userid == 'admin' and userpass == 'password'):\n",
    "        print(\"Login Successfull\")\n",
    "        break\n",
    "    else:\n",
    "        print(\"Login Failed\")"
   ]
  },
  {
   "cell_type": "code",
   "execution_count": 1,
   "id": "d2839686-6582-4381-83c3-3794e47262d6",
   "metadata": {},
   "outputs": [
    {
     "name": "stdout",
     "output_type": "stream",
     "text": [
      "Hello World\n",
      "Hello World\n",
      "Hello World\n",
      "Hello World\n",
      "Hello World\n",
      "Loop terminates\n"
     ]
    }
   ],
   "source": [
    "# While \n",
    "i = 0\n",
    "while i < 5:\n",
    "    print(\"Hello World\")\n",
    "    i += 1\n",
    "else:\n",
    "    print(\"Loop terminates\")"
   ]
  },
  {
   "cell_type": "code",
   "execution_count": 3,
   "id": "359c6db4-8321-4fac-893b-9d712a754e3c",
   "metadata": {},
   "outputs": [
    {
     "name": "stdin",
     "output_type": "stream",
     "text": [
      "Enter your user id admin\n",
      "Enter your password password\n"
     ]
    },
    {
     "name": "stdout",
     "output_type": "stream",
     "text": [
      "Login success\n"
     ]
    }
   ],
   "source": [
    "userid = \"\"\n",
    "userpass = \"\"\n",
    "\n",
    "while userid != 'admin' or userpass != 'password':\n",
    "    userid = input(\"Enter your user id\")\n",
    "    userpass = input(\"Enter your password\")\n",
    "else:\n",
    "    print(\"Login success\")"
   ]
  },
  {
   "cell_type": "markdown",
   "id": "384147a7-bf48-44e0-94fe-5be09e4bff86",
   "metadata": {},
   "source": [
    "functions\n",
    "\n",
    "* f(x) = x + 2\n",
    "* f(2) = 4\n",
    "* f(7) = 9"
   ]
  },
  {
   "cell_type": "code",
   "execution_count": 1,
   "id": "a3ee95e8-d6ca-4187-8d76-03d749034f3c",
   "metadata": {},
   "outputs": [],
   "source": [
    "def add_two(x):\n",
    "    print(x + 2)"
   ]
  },
  {
   "cell_type": "code",
   "execution_count": 5,
   "id": "a814e1f4-d0f5-4f07-a0e4-ecc79f8cbb03",
   "metadata": {},
   "outputs": [
    {
     "name": "stdout",
     "output_type": "stream",
     "text": [
      "10\n",
      "7\n"
     ]
    }
   ],
   "source": [
    "add_two(8)\n",
    "add_two(5)"
   ]
  },
  {
   "cell_type": "code",
   "execution_count": 6,
   "id": "c5d4771b-ce8e-4b6e-83a9-2b19aedad459",
   "metadata": {},
   "outputs": [],
   "source": [
    "#function to calculate product of two number\n",
    "def product(x,y):\n",
    "    result = x * y\n",
    "    print(result)"
   ]
  },
  {
   "cell_type": "code",
   "execution_count": 7,
   "id": "22f13005-e8ea-4771-9a3a-75d7e929f822",
   "metadata": {},
   "outputs": [
    {
     "name": "stdout",
     "output_type": "stream",
     "text": [
      "28\n",
      "18\n"
     ]
    }
   ],
   "source": [
    "product(7,4)\n",
    "product(2,9)"
   ]
  },
  {
   "cell_type": "code",
   "execution_count": 8,
   "id": "b3d3f0b2-1219-4801-985b-3c09b984d52c",
   "metadata": {},
   "outputs": [
    {
     "name": "stdout",
     "output_type": "stream",
     "text": [
      "28\n"
     ]
    }
   ],
   "source": [
    "output = product(7,4)"
   ]
  },
  {
   "cell_type": "code",
   "execution_count": 9,
   "id": "092fa80a-6506-4c56-bd85-3539c0592a15",
   "metadata": {},
   "outputs": [
    {
     "name": "stdout",
     "output_type": "stream",
     "text": [
      "None\n"
     ]
    }
   ],
   "source": [
    "print(output)"
   ]
  },
  {
   "cell_type": "code",
   "execution_count": 10,
   "id": "7221909b-3562-4c6d-b1a1-63deda9960d2",
   "metadata": {},
   "outputs": [],
   "source": [
    "def new_product(x,y):\n",
    "    result = x * y\n",
    "    return result"
   ]
  },
  {
   "cell_type": "code",
   "execution_count": 11,
   "id": "9d9bcb4c-eb24-49e2-9383-ca32b62d3037",
   "metadata": {},
   "outputs": [],
   "source": [
    "output = new_product(9,2)"
   ]
  },
  {
   "cell_type": "code",
   "execution_count": 12,
   "id": "f2305007-b71d-4f5e-bd14-eec1502c469e",
   "metadata": {},
   "outputs": [
    {
     "name": "stdout",
     "output_type": "stream",
     "text": [
      "18\n"
     ]
    }
   ],
   "source": [
    "print(output)"
   ]
  },
  {
   "cell_type": "code",
   "execution_count": null,
   "id": "f85c28b2-8ed2-4a12-89d7-133505329403",
   "metadata": {},
   "outputs": [],
   "source": []
  }
 ],
 "metadata": {
  "kernelspec": {
   "display_name": "Python 3 (ipykernel)",
   "language": "python",
   "name": "python3"
  },
  "language_info": {
   "codemirror_mode": {
    "name": "ipython",
    "version": 3
   },
   "file_extension": ".py",
   "mimetype": "text/x-python",
   "name": "python",
   "nbconvert_exporter": "python",
   "pygments_lexer": "ipython3",
   "version": "3.13.2"
  }
 },
 "nbformat": 4,
 "nbformat_minor": 5
}
