{
 "cells": [
  {
   "cell_type": "code",
   "execution_count": null,
   "id": "7d675bc4-3346-427e-8b0f-15af96825b18",
   "metadata": {},
   "outputs": [],
   "source": [
    "# calculatur\n",
    "a=float(input('enter the first number : '))\n",
    "b=float(input(\"enter the second number : \"))\n",
    "print(\"ADD\",\"SUB\",\"MUL\",\"DIV\",\"EXP\",\"REM\",\"QUE\", sep='\\n')\n",
    "c=input(\"select your operation\")\n",
    "if c==\"ADD\":\n",
    "    print(a+b)\n",
    "elif c==\"SUB\":\n",
    "    print(a-b)\n",
    "elif c==\"MUL\":\n",
    "    print(a*b)\n",
    "elif c==\"DIV\":\n",
    "    print(a/b)\n",
    "elif c==\"EXP\":\n",
    "    print(a**b)\n",
    "elif c==\"REM\":\n",
    "    print(a%b)\n",
    "elif c==\"QUO\":\n",
    "    print(a//b)\n",
    "else:\n",
    "    print(\"invalid operator selection: \")\n",
    "    "
   ]
  },
  {
   "cell_type": "code",
   "execution_count": null,
   "id": "b297ead7-d373-417b-a2f1-c261c16c4ed4",
   "metadata": {},
   "outputs": [],
   "source": []
  }
 ],
 "metadata": {
  "kernelspec": {
   "display_name": "Python 3 (ipykernel)",
   "language": "python",
   "name": "python3"
  },
  "language_info": {
   "codemirror_mode": {
    "name": "ipython",
    "version": 3
   },
   "file_extension": ".py",
   "mimetype": "text/x-python",
   "name": "python",
   "nbconvert_exporter": "python",
   "pygments_lexer": "ipython3",
   "version": "3.13.2"
  }
 },
 "nbformat": 4,
 "nbformat_minor": 5
}
