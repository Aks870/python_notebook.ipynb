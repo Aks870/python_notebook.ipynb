{
 "cells": [
  {
   "cell_type": "code",
   "execution_count": 1,
   "id": "d17735b9-e2c7-40e8-86cd-e02a26375ecd",
   "metadata": {},
   "outputs": [],
   "source": [
    "import numpy as np"
   ]
  },
  {
   "cell_type": "code",
   "execution_count": 2,
   "id": "c7391ffe-6923-4563-aa5f-b18d6d8373b5",
   "metadata": {},
   "outputs": [
    {
     "name": "stdout",
     "output_type": "stream",
     "text": [
      "[[4 3 3 2 1]\n",
      " [7 5 4 3 5]\n",
      " [5 2 9 1 6]]\n"
     ]
    }
   ],
   "source": [
    "arr1 = np.array([[4,3,3,2,1] , [7,5,4,3,5] , [5,2,9,1,6]])\n",
    "print(arr1)"
   ]
  },
  {
   "cell_type": "code",
   "execution_count": 4,
   "id": "0f2b08c3-d5e6-4cb8-8080-b670c9b1852d",
   "metadata": {},
   "outputs": [],
   "source": [
    "arr1[2,2] = 19"
   ]
  },
  {
   "cell_type": "code",
   "execution_count": 5,
   "id": "9fa80e17-21a2-41e3-af02-f871e4a12a0a",
   "metadata": {},
   "outputs": [
    {
     "name": "stdout",
     "output_type": "stream",
     "text": [
      "[[ 4  3  3  2  1]\n",
      " [ 7  5  4  3  5]\n",
      " [ 5  2 19  1  6]]\n"
     ]
    }
   ],
   "source": [
    "print(arr1)"
   ]
  },
  {
   "cell_type": "code",
   "execution_count": 6,
   "id": "c96052ff-af09-4177-b852-05f86a48169a",
   "metadata": {},
   "outputs": [
    {
     "name": "stdout",
     "output_type": "stream",
     "text": [
      "4\n"
     ]
    }
   ],
   "source": [
    "print(arr1[0,0])"
   ]
  },
  {
   "cell_type": "code",
   "execution_count": 7,
   "id": "fab7a574-b3b3-44a8-8f43-c84ab9367130",
   "metadata": {},
   "outputs": [
    {
     "name": "stdout",
     "output_type": "stream",
     "text": [
      "[[0. 0. 0.]\n",
      " [0. 0. 0.]\n",
      " [0. 0. 0.]\n",
      " [0. 0. 0.]]\n"
     ]
    }
   ],
   "source": [
    "print(np.zeros((4,3)))"
   ]
  },
  {
   "cell_type": "code",
   "execution_count": 8,
   "id": "a9c8506b-0cdf-44f1-9c02-b72fba3859b3",
   "metadata": {},
   "outputs": [
    {
     "name": "stdout",
     "output_type": "stream",
     "text": [
      "[[1. 1. 1.]\n",
      " [1. 1. 1.]\n",
      " [1. 1. 1.]\n",
      " [1. 1. 1.]]\n"
     ]
    }
   ],
   "source": [
    "print(np.ones((4,3)))"
   ]
  },
  {
   "cell_type": "code",
   "execution_count": 9,
   "id": "ad0a7cf8-d034-4416-a737-5fbb1a3d881b",
   "metadata": {},
   "outputs": [
    {
     "name": "stdout",
     "output_type": "stream",
     "text": [
      "[[1. 0. 0. 0.]\n",
      " [0. 1. 0. 0.]\n",
      " [0. 0. 1. 0.]\n",
      " [0. 0. 0. 1.]]\n"
     ]
    }
   ],
   "source": [
    "print(np.eye(4))"
   ]
  },
  {
   "cell_type": "code",
   "execution_count": 10,
   "id": "a3228bbb-aa4e-432e-a31a-9ec877ed3683",
   "metadata": {},
   "outputs": [
    {
     "name": "stdout",
     "output_type": "stream",
     "text": [
      "[[0. 0. 0.]\n",
      " [0. 0. 0.]\n",
      " [0. 0. 0.]]\n"
     ]
    }
   ],
   "source": [
    "arr2 = np.zeros((3,3))\n",
    "print(arr2)"
   ]
  },
  {
   "cell_type": "code",
   "execution_count": 14,
   "id": "fdf35258-9051-4a95-ab19-41ba26c9f015",
   "metadata": {},
   "outputs": [
    {
     "name": "stdin",
     "output_type": "stream",
     "text": [
      "Enter a number 3\n",
      "Enter a number 4\n",
      "Enter a number 7\n"
     ]
    }
   ],
   "source": [
    "#how to create a matrix using user input values\n",
    "\n",
    "for i in range(0,3):\n",
    "    user_input = int(input(\"Enter a number\"))\n",
    "\n",
    "    arr2[0,i] = user_input"
   ]
  },
  {
   "cell_type": "code",
   "execution_count": 15,
   "id": "0d67bac9-57af-4346-b290-4713f1c245a5",
   "metadata": {},
   "outputs": [
    {
     "name": "stdout",
     "output_type": "stream",
     "text": [
      "[[3. 4. 7.]\n",
      " [0. 0. 0.]\n",
      " [0. 0. 0.]]\n"
     ]
    }
   ],
   "source": [
    "print(arr2)"
   ]
  },
  {
   "cell_type": "code",
   "execution_count": 16,
   "id": "adb1370c-6011-468c-add9-0d62cdc5fbb3",
   "metadata": {},
   "outputs": [
    {
     "name": "stdout",
     "output_type": "stream",
     "text": [
      "[[ 4  3  3  2  1]\n",
      " [ 7  5  4  3  5]\n",
      " [ 5  2 19  1  6]]\n"
     ]
    }
   ],
   "source": [
    "print(arr1)"
   ]
  },
  {
   "cell_type": "code",
   "execution_count": 17,
   "id": "54936766-c55a-49db-81ce-c9bad566d6e2",
   "metadata": {},
   "outputs": [
    {
     "name": "stdout",
     "output_type": "stream",
     "text": [
      "[[ 4  3  3]\n",
      " [ 2  1  7]\n",
      " [ 5  4  3]\n",
      " [ 5  5  2]\n",
      " [19  1  6]]\n"
     ]
    }
   ],
   "source": [
    "print(arr1.reshape(5,3))"
   ]
  },
  {
   "cell_type": "code",
   "execution_count": 18,
   "id": "b0f3d171-2b9a-43ea-8233-9a3fc9d502f6",
   "metadata": {},
   "outputs": [
    {
     "name": "stdout",
     "output_type": "stream",
     "text": [
      "[[ 4  7  5]\n",
      " [ 3  5  2]\n",
      " [ 3  4 19]\n",
      " [ 2  3  1]\n",
      " [ 1  5  6]]\n"
     ]
    }
   ],
   "source": [
    "print(arr1.T)"
   ]
  },
  {
   "cell_type": "code",
   "execution_count": 19,
   "id": "303f002f-696f-4250-a013-0a10edcc9515",
   "metadata": {},
   "outputs": [
    {
     "name": "stdout",
     "output_type": "stream",
     "text": [
      "[[3 2 5]\n",
      " [1 1 1]\n",
      " [2 2 7]]\n"
     ]
    }
   ],
   "source": [
    "A = np.array([[3,2,5] , [1,1,1] , [2,2,7]])\n",
    "print(A)"
   ]
  },
  {
   "cell_type": "code",
   "execution_count": 20,
   "id": "89db69d9-544e-48d9-b2ab-03714c67a482",
   "metadata": {},
   "outputs": [
    {
     "name": "stdout",
     "output_type": "stream",
     "text": [
      "[['x']\n",
      " ['y']\n",
      " ['z']]\n"
     ]
    }
   ],
   "source": [
    "X = np.array([['x'] , ['y'] , ['z']])\n",
    "print(X)"
   ]
  },
  {
   "cell_type": "code",
   "execution_count": 21,
   "id": "1a3f5864-cb33-44c4-88a2-a27ead40128b",
   "metadata": {},
   "outputs": [
    {
     "name": "stdout",
     "output_type": "stream",
     "text": [
      "[[15]\n",
      " [10]\n",
      " [25]]\n"
     ]
    }
   ],
   "source": [
    "B = np.array([[15],[10],[25]])\n",
    "print(B)"
   ]
  },
  {
   "cell_type": "code",
   "execution_count": null,
   "id": "b94851c7-3883-4bcf-9863-05751b973db8",
   "metadata": {},
   "outputs": [],
   "source": [
    "#A.X = B\n",
    "#X = inv(A).B"
   ]
  },
  {
   "cell_type": "code",
   "execution_count": 22,
   "id": "dda570fb-ae54-4924-b7b9-7db852d31d65",
   "metadata": {},
   "outputs": [
    {
     "name": "stdout",
     "output_type": "stream",
     "text": [
      "[[ 1.  -0.8 -0.6]\n",
      " [-1.   2.2  0.4]\n",
      " [-0.  -0.4  0.2]]\n"
     ]
    }
   ],
   "source": [
    "A_inv = np.linalg.inv(A)\n",
    "print(A_inv)"
   ]
  },
  {
   "cell_type": "code",
   "execution_count": 23,
   "id": "a649ff48-cfad-4ea4-8ff3-0336dd3cd0ab",
   "metadata": {},
   "outputs": [
    {
     "name": "stdout",
     "output_type": "stream",
     "text": [
      "[[-8.]\n",
      " [17.]\n",
      " [ 1.]]\n"
     ]
    }
   ],
   "source": [
    "X = np.dot(A_inv , B)\n",
    "print(X)"
   ]
  },
  {
   "cell_type": "code",
   "execution_count": null,
   "id": "61fc6054-d00b-4c4d-ab74-5871a99abbd0",
   "metadata": {},
   "outputs": [],
   "source": []
  },
  {
   "cell_type": "code",
   "execution_count": null,
   "id": "59b7944c-035c-478b-b5fa-3d144a417f1a",
   "metadata": {},
   "outputs": [],
   "source": []
  },
  {
   "cell_type": "code",
   "execution_count": null,
   "id": "c334e618-b8f3-4db2-b811-c628fe574db8",
   "metadata": {},
   "outputs": [],
   "source": []
  },
  {
   "cell_type": "code",
   "execution_count": null,
   "id": "bd97d4be-1303-462f-8722-5c413ee6d1bf",
   "metadata": {},
   "outputs": [],
   "source": []
  },
  {
   "cell_type": "code",
   "execution_count": null,
   "id": "f5e39d63-96fd-428a-a8f0-98851c172218",
   "metadata": {},
   "outputs": [],
   "source": []
  },
  {
   "cell_type": "code",
   "execution_count": null,
   "id": "0a866108-2834-4d31-87ed-a9a62a87a317",
   "metadata": {},
   "outputs": [],
   "source": []
  },
  {
   "cell_type": "code",
   "execution_count": null,
   "id": "6fb75f56-4c6b-4739-b652-760bca80b0e8",
   "metadata": {},
   "outputs": [],
   "source": []
  },
  {
   "cell_type": "code",
   "execution_count": null,
   "id": "108b2f55-ef4c-46ad-a912-ae8e32206b28",
   "metadata": {},
   "outputs": [],
   "source": []
  },
  {
   "cell_type": "code",
   "execution_count": null,
   "id": "e1dcdd64-fbc5-454d-919b-61cb0f899688",
   "metadata": {},
   "outputs": [],
   "source": []
  },
  {
   "cell_type": "code",
   "execution_count": null,
   "id": "f8ecc6d8-67d1-4fe3-8c4a-4994528c79c2",
   "metadata": {},
   "outputs": [],
   "source": []
  }
 ],
 "metadata": {
  "kernelspec": {
   "display_name": "Python 3 (ipykernel)",
   "language": "python",
   "name": "python3"
  },
  "language_info": {
   "codemirror_mode": {
    "name": "ipython",
    "version": 3
   },
   "file_extension": ".py",
   "mimetype": "text/x-python",
   "name": "python",
   "nbconvert_exporter": "python",
   "pygments_lexer": "ipython3",
   "version": "3.13.2"
  }
 },
 "nbformat": 4,
 "nbformat_minor": 5
}
