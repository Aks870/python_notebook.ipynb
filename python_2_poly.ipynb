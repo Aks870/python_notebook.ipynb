{
 "cells": [
  {
   "cell_type": "markdown",
   "id": "320182e9-ca2e-4ff6-9c74-249863f4e580",
   "metadata": {},
   "source": [
    "Operators"
   ]
  },
  {
   "cell_type": "markdown",
   "id": "e47e8b69-fe71-4ef5-a225-10a1f19525b2",
   "metadata": {},
   "source": [
    "* Arthametic Operators\n",
    "* Assignment Operator\n",
    "* Comparasion Operator\n",
    "* Logical Operator\n",
    "* Membership Operator"
   ]
  },
  {
   "cell_type": "code",
   "execution_count": 2,
   "id": "f3ca0865-6b53-4d5f-b3d7-6f26251f55be",
   "metadata": {},
   "outputs": [
    {
     "name": "stdout",
     "output_type": "stream",
     "text": [
      "22\n",
      "12\n",
      "3.4\n",
      "85\n",
      "3\n",
      "1419857\n",
      "2\n"
     ]
    }
   ],
   "source": [
    "# Arthemeric Operator\n",
    "a = 17\n",
    "b = 5 \n",
    "\n",
    "print(a+b)\n",
    "print(a-b)\n",
    "print(a/b)\n",
    "print(a*b)\n",
    "print(a//b)\n",
    "print(a**b)\n",
    "print(a%b)"
   ]
  },
  {
   "cell_type": "code",
   "execution_count": 4,
   "id": "bbf3b84e-7893-4c82-bbf0-a8b841f54a85",
   "metadata": {},
   "outputs": [
    {
     "name": "stdout",
     "output_type": "stream",
     "text": [
      "True\n",
      "False\n",
      "True\n",
      "True\n",
      "True\n",
      "True\n",
      "True\n"
     ]
    }
   ],
   "source": [
    "# Assignmen Operator\n",
    "salary = 50000\n",
    "\n",
    "print(salary == 50000)\n",
    "print(salary != 50000)\n",
    "print(salary != 40000)\n",
    "\n",
    "print(salary > 45000)\n",
    "print(salary < 55000)\n",
    "\n",
    "print(salary >= 45000)\n",
    "print(salary <= 55000)"
   ]
  },
  {
   "cell_type": "code",
   "execution_count": 5,
   "id": "354072ca-b74d-45f3-99b4-14c6a27fb787",
   "metadata": {},
   "outputs": [
    {
     "name": "stdout",
     "output_type": "stream",
     "text": [
      "True\n",
      "True\n",
      "True\n",
      "False\n"
     ]
    }
   ],
   "source": [
    "# Logical Operator\n",
    "\n",
    "age = 30\n",
    "weight = 65\n",
    "\n",
    "print(age > 25 or weight > 60)    #true or True => True\n",
    "print(age > 25 or weight < 60)    #True or False => True \n",
    "print(age < 25 or weight > 60)    #False or True => True\n",
    "print(age < 25 or weight < 60)    #False or False => False\n",
    "\n"
   ]
  },
  {
   "cell_type": "code",
   "execution_count": 7,
   "id": "06efcb91-650a-469d-ad4a-8a02bb94a872",
   "metadata": {},
   "outputs": [
    {
     "name": "stdout",
     "output_type": "stream",
     "text": [
      "False\n",
      "False\n",
      "False\n",
      "True\n"
     ]
    }
   ],
   "source": [
    "# Logical Operator\n",
    "\n",
    "age = 30\n",
    "weight = 65\n",
    "\n",
    "print(not(age > 25 or weight > 60))   #True or True => True\n",
    "print(not(age > 25 or weight < 60))   #True or False => True\n",
    "print(not(age < 25 or weight > 60))    #False or True => True\n",
    "print(not(age < 25 or weight < 60))    #False or False => False"
   ]
  },
  {
   "cell_type": "code",
   "execution_count": 8,
   "id": "d0ff3d9c-b73d-47d5-94bc-01b8fecb4c7d",
   "metadata": {},
   "outputs": [
    {
     "name": "stdout",
     "output_type": "stream",
     "text": [
      "False\n",
      "True\n",
      "False\n",
      "True\n"
     ]
    }
   ],
   "source": [
    "# Membership Operator\n",
    "\n",
    "name = \"Bipul Kumar Shahi\"\n",
    "\n",
    "print(\"x\" in name)\n",
    "print(\"B\" in name)\n",
    "print(\"s\" in name)\n",
    "print(\"Kumar\" in name)"
   ]
  },
  {
   "cell_type": "code",
   "execution_count": 9,
   "id": "323693a6-3c16-4fcd-9511-2486779fda53",
   "metadata": {},
   "outputs": [
    {
     "name": "stdout",
     "output_type": "stream",
     "text": [
      "True\n",
      "False\n",
      "True\n",
      "False\n"
     ]
    }
   ],
   "source": [
    "print(\"x\" not in name)\n",
    "print(\"B\" not in name)\n",
    "print(\"s\" not in name)\n",
    "print(\"Kumar\" not in name)"
   ]
  },
  {
   "cell_type": "code",
   "execution_count": 10,
   "id": "fa645db8-b337-4a95-8c79-9928f786f732",
   "metadata": {},
   "outputs": [
    {
     "name": "stdout",
     "output_type": "stream",
     "text": [
      "True\n",
      "False\n"
     ]
    }
   ],
   "source": [
    "cities = (\"Patna\" , \"Jaipur\" , \"Delhi\" , \"Indore\" , \"Nagpur\")\n",
    "print(\"Delhi\" in cities)\n",
    "print(\"Mumbai\" in cities)"
   ]
  },
  {
   "cell_type": "code",
   "execution_count": 11,
   "id": "98258933-763b-48fd-adbf-e9a1e2a8661c",
   "metadata": {},
   "outputs": [
    {
     "name": "stdout",
     "output_type": "stream",
     "text": [
      "4\n",
      "7\n"
     ]
    }
   ],
   "source": [
    "#Bitwise operator\n",
    "\n",
    "print(5 & 6)\n",
    "print(5 | 6)"
   ]
  },
  {
   "cell_type": "code",
   "execution_count": 12,
   "id": "e197e78e-9c67-4c1a-9fad-ad83c8baf080",
   "metadata": {},
   "outputs": [
    {
     "name": "stdout",
     "output_type": "stream",
     "text": [
      "-3\n"
     ]
    }
   ],
   "source": [
    "print(~2)"
   ]
  },
  {
   "cell_type": "markdown",
   "id": "5a9e7e31-4b68-4a09-bf7f-f9bafce881d6",
   "metadata": {},
   "source": [
    "Logical Programming\n",
    "\n",
    "* if\n",
    "* if-else\n",
    "* if-elif-else"
   ]
  },
  {
   "cell_type": "code",
   "execution_count": 13,
   "id": "99ca7a05-0a81-414a-8730-c0760cf9951e",
   "metadata": {},
   "outputs": [
    {
     "name": "stdout",
     "output_type": "stream",
     "text": [
      "You are eligible to vote\n"
     ]
    }
   ],
   "source": [
    "age = 22\n",
    "\n",
    "if age > 18:\n",
    "    print(\"You are eligible to vote\")"
   ]
  },
  {
   "cell_type": "code",
   "execution_count": 14,
   "id": "9aaff9bd-8376-401e-8297-2bd579c491f7",
   "metadata": {},
   "outputs": [
    {
     "name": "stdout",
     "output_type": "stream",
     "text": [
      "You are not eligible to vote\n"
     ]
    }
   ],
   "source": [
    "age = 13\n",
    "\n",
    "if age > 18:\n",
    "    print(\"You are eligible to vote\")\n",
    "else:\n",
    "    print(\"You are not eligible to vote\")"
   ]
  },
  {
   "cell_type": "code",
   "execution_count": 16,
   "id": "0dbffff4-0d4c-4adb-92cb-82560f6710a9",
   "metadata": {},
   "outputs": [
    {
     "name": "stdin",
     "output_type": "stream",
     "text": [
      "Enter Your marks 96\n"
     ]
    },
    {
     "name": "stdout",
     "output_type": "stream",
     "text": [
      "Grade A+\n"
     ]
    }
   ],
   "source": [
    "marks = int(input(\"Enter Your marks\"))\n",
    "\n",
    "if marks > 90:\n",
    "    print(\"Grade A+\")\n",
    "elif marks > 80:\n",
    "    print(\"Grade A\")\n",
    "elif marks > 70:\n",
    "    print(\"Grade B+\")\n",
    "elif marks > 60:\n",
    "    print(\"Grade B\")\n",
    "elif marks > 50:\n",
    "    print(\"Grade C+\")\n",
    "elif marks > 40:\n",
    "    print(\" Grade C\")\n",
    "else:\n",
    "    print(\"Fail\")"
   ]
  },
  {
   "cell_type": "code",
   "execution_count": 17,
   "id": "97efccdc-e9a7-46b7-9b9f-4d6f37a5fb0e",
   "metadata": {},
   "outputs": [
    {
     "name": "stdout",
     "output_type": "stream",
     "text": [
      "<class 'str'>\n"
     ]
    }
   ],
   "source": [
    "num = \"55\"\n",
    "print(type(num))"
   ]
  },
  {
   "cell_type": "code",
   "execution_count": 19,
   "id": "a53d062c-d29f-4cf8-8170-e31ead149650",
   "metadata": {},
   "outputs": [
    {
     "name": "stdin",
     "output_type": "stream",
     "text": [
      "Enter Your marks 87\n"
     ]
    },
    {
     "name": "stdout",
     "output_type": "stream",
     "text": [
      "Grade A\n",
      "Grade B+\n",
      "Grade B\n",
      "Grade C+\n",
      " Grade C\n"
     ]
    }
   ],
   "source": [
    "marks = int(input(\"Enter Your marks\"))\n",
    "\n",
    "if marks > 90:\n",
    "    print(\"Grade A+\")\n",
    "if marks > 80:\n",
    "    print(\"Grade A\")\n",
    "if marks > 70:\n",
    "    print(\"Grade B+\")\n",
    "if marks > 60:\n",
    "    print(\"Grade B\")\n",
    "if marks > 50:\n",
    "    print(\"Grade C+\")\n",
    "if marks > 40:\n",
    "    print(\" Grade C\")\n",
    "else:\n",
    "    print(\"Fail\")"
   ]
  },
  {
   "cell_type": "code",
   "execution_count": null,
   "id": "bb3077f2-6e26-4ab8-8c34-fcc488048d98",
   "metadata": {},
   "outputs": [],
   "source": []
  }
 ],
 "metadata": {
  "kernelspec": {
   "display_name": "Python 3 (ipykernel)",
   "language": "python",
   "name": "python3"
  },
  "language_info": {
   "codemirror_mode": {
    "name": "ipython",
    "version": 3
   },
   "file_extension": ".py",
   "mimetype": "text/x-python",
   "name": "python",
   "nbconvert_exporter": "python",
   "pygments_lexer": "ipython3",
   "version": "3.13.2"
  }
 },
 "nbformat": 4,
 "nbformat_minor": 5
}
